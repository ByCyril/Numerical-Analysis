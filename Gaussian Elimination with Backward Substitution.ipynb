{
 "cells": [
  {
   "cell_type": "markdown",
   "metadata": {},
   "source": [
    "# Gaussian Elimination with Backwards Substitution"
   ]
  },
  {
   "cell_type": "markdown",
   "metadata": {},
   "source": [
    "The idea is to create the upper triangle and solve the entire matrix using backwards substitution to solve the system"
   ]
  },
  {
   "cell_type": "code",
   "execution_count": 170,
   "metadata": {},
   "outputs": [],
   "source": [
    "import numpy as np"
   ]
  },
  {
   "cell_type": "code",
   "execution_count": 172,
   "metadata": {},
   "outputs": [],
   "source": [
    "def algo(A,b):\n",
    "    n = len(A)\n",
    "\n",
    "#     Create the upper triangle\n",
    "    for i in range(n):\n",
    "        if A[i][i] == 0:\n",
    "            for xi in range(i+1,n):\n",
    "                if A[xi][i] != 0:\n",
    "                    A[[i,xi]] = A[[xi,i]]\n",
    "                    b[[i,xi]] = b[[xi,i]]\n",
    "                    break\n",
    "        for j in range(i+1,n):\n",
    "            m = A[j][i] / A[i][i]\n",
    "            A[j] = A[j] - m*A[i]\n",
    "            b[j] = b[j] - m*b[i]\n",
    "    \n",
    "    print('A=',A)\n",
    "    print('')\n",
    "    print('b=',b)\n",
    "    \n",
    "    x = np.array([])\n",
    "    x = np.insert(x,0,b[n - 1] / A[n-1][n-1])\n",
    "\n",
    "#     Backwards Substitution\n",
    "    for i in range(n - 2,-1,-1):\n",
    "        s = 0\n",
    "        for j in range(n-1,i-1,-1):\n",
    "            if i == j :\n",
    "                v = (b[i][0] - np.sum(A[i][j+1:] * x)) / A[i][j]\n",
    "                x = np.insert(x,0,v)\n",
    "                continue\n",
    "            s += A[i][j]\n",
    "\n",
    "    print('')\n",
    "    print('x=',x)"
   ]
  },
  {
   "cell_type": "code",
   "execution_count": null,
   "metadata": {},
   "outputs": [],
   "source": []
  },
  {
   "cell_type": "code",
   "execution_count": null,
   "metadata": {},
   "outputs": [],
   "source": []
  },
  {
   "cell_type": "code",
   "execution_count": null,
   "metadata": {},
   "outputs": [],
   "source": []
  },
  {
   "cell_type": "code",
   "execution_count": null,
   "metadata": {},
   "outputs": [],
   "source": []
  },
  {
   "cell_type": "code",
   "execution_count": null,
   "metadata": {},
   "outputs": [],
   "source": []
  },
  {
   "cell_type": "code",
   "execution_count": null,
   "metadata": {},
   "outputs": [],
   "source": []
  },
  {
   "cell_type": "code",
   "execution_count": null,
   "metadata": {},
   "outputs": [],
   "source": []
  },
  {
   "cell_type": "code",
   "execution_count": null,
   "metadata": {},
   "outputs": [],
   "source": []
  }
 ],
 "metadata": {
  "kernelspec": {
   "display_name": "Python 3",
   "language": "python",
   "name": "python3"
  },
  "language_info": {
   "codemirror_mode": {
    "name": "ipython",
    "version": 3
   },
   "file_extension": ".py",
   "mimetype": "text/x-python",
   "name": "python",
   "nbconvert_exporter": "python",
   "pygments_lexer": "ipython3",
   "version": "3.7.7"
  }
 },
 "nbformat": 4,
 "nbformat_minor": 4
}
